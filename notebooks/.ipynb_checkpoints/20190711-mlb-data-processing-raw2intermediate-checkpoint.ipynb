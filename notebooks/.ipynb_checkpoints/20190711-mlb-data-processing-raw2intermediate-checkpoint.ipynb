{
 "cells": [
  {
   "cell_type": "markdown",
   "metadata": {},
   "source": [
    "# Data Processing: Raw to Intermediate \n",
    "\n",
    "Data Source: [Ask A Manager salary survey 2019](https://docs.google.com/spreadsheets/d/1rGCKXIKt-7l5gX06NAwO3pjqEHh-oPXtB8ihkp0vGWo/edit#gid=382484678)"
   ]
  },
  {
   "cell_type": "markdown",
   "metadata": {},
   "source": [
    "#### Load Libraries"
   ]
  },
  {
   "cell_type": "code",
   "execution_count": 1,
   "metadata": {},
   "outputs": [],
   "source": [
    "import matplotlib.pyplot as plt\n",
    "import numpy as np \n",
    "import pandas as pd\n",
    "import re"
   ]
  },
  {
   "cell_type": "code",
   "execution_count": 2,
   "metadata": {},
   "outputs": [],
   "source": [
    "# first row does not have useful information so will skip \n",
    "aam_salary_raw = pd.read_csv('../data/01_raw/aam_salary_raw.csv', \n",
    "                            skiprows=1)"
   ]
  },
  {
   "cell_type": "markdown",
   "metadata": {},
   "source": [
    "#### Rename all columns to take out spaces"
   ]
  },
  {
   "cell_type": "code",
   "execution_count": 3,
   "metadata": {},
   "outputs": [
    {
     "data": {
      "text/plain": [
       "Index(['Timestamp', 'How old are you?', 'What industry do you work in?',\n",
       "       'Job title', 'What is your annual salary?',\n",
       "       'Please indicate the currency',\n",
       "       'Where are you located? (City/state/country)',\n",
       "       'How many years of post-college professional work experience do you have?',\n",
       "       'If your job title needs additional context, please clarify here:',\n",
       "       'If \"Other,\" please indicate the currency here: '],\n",
       "      dtype='object')"
      ]
     },
     "execution_count": 3,
     "metadata": {},
     "output_type": "execute_result"
    }
   ],
   "source": [
    "# current column names are long and contain spaces\n",
    "aam_salary_raw.columns"
   ]
  },
  {
   "cell_type": "code",
   "execution_count": 4,
   "metadata": {},
   "outputs": [],
   "source": [
    "# simplify column names\n",
    "aam_salary_raw.head()\n",
    "aam_salary_raw.rename(columns={\"Timestamp\": \"timestamp\", \"How old are you?\": \"age\", \n",
    "                               \"What industry do you work in?\": \"industry\", \"Job title\": \"job_title\", \n",
    "                              \"What is your annual salary?\": \"annual_salary\", \n",
    "                               \"Please indicate the currency\": \"currency\", \n",
    "                              \"Where are you located? (City/state/country)\": \"location\", \n",
    "                              \"How many years of post-college professional work experience do you have?\": \"work_years\", \n",
    "                              \"If your job title needs additional context, please clarify here:\" : \"notes\", \n",
    "                              \"If \\\"Other,\\\" please indicate the currency here: \": \"other_currency\"}, \n",
    "                     inplace=True)\n"
   ]
  },
  {
   "cell_type": "markdown",
   "metadata": {},
   "source": [
    "#### View the datatype of each variable"
   ]
  },
  {
   "cell_type": "code",
   "execution_count": 5,
   "metadata": {},
   "outputs": [
    {
     "name": "stdout",
     "output_type": "stream",
     "text": [
      "<class 'pandas.core.frame.DataFrame'>\n",
      "RangeIndex: 30995 entries, 0 to 30994\n",
      "Data columns (total 10 columns):\n",
      "timestamp         30995 non-null object\n",
      "age               30995 non-null object\n",
      "industry          30171 non-null object\n",
      "job_title         30993 non-null object\n",
      "annual_salary     30992 non-null object\n",
      "currency          30995 non-null object\n",
      "location          29500 non-null object\n",
      "work_years        30995 non-null object\n",
      "notes             7004 non-null object\n",
      "other_currency    236 non-null object\n",
      "dtypes: object(10)\n",
      "memory usage: 2.4+ MB\n"
     ]
    }
   ],
   "source": [
    "aam_salary_raw.info()"
   ]
  },
  {
   "cell_type": "code",
   "execution_count": 6,
   "metadata": {},
   "outputs": [],
   "source": [
    "# change timestamp from object to datetime\n",
    "aam_salary_raw.timestamp = pd.to_datetime(aam_salary_raw.timestamp)\n",
    "# erase all commas, dollar signs & spaces\n",
    "aam_salary_raw.annual_salary = aam_salary_raw.annual_salary.str.replace(',', '')\n",
    "aam_salary_raw.annual_salary = aam_salary_raw.annual_salary.str.replace('$', '')\n",
    "aam_salary_raw.annual_salary = aam_salary_raw.annual_salary.str.replace(' ', '')"
   ]
  },
  {
   "cell_type": "code",
   "execution_count": 7,
   "metadata": {},
   "outputs": [],
   "source": [
    "# filter only numbers for the annual_salary variable \n",
    "new_sal = []\n",
    "for salary in aam_salary_raw.annual_salary:\n",
    "    new_sal.append(re.findall(r'\\d+', str(salary)))\n",
    "aam_salary_raw.annual_salary = new_sal"
   ]
  },
  {
   "cell_type": "code",
   "execution_count": 8,
   "metadata": {},
   "outputs": [
    {
     "name": "stdout",
     "output_type": "stream",
     "text": [
      "853\n"
     ]
    }
   ],
   "source": [
    "# 853 entries that have multiple numbers\n",
    "count = 0\n",
    "for item in new_sal:\n",
    "    if len(item) > 1:\n",
    "        count += 1\n",
    "print(count)"
   ]
  },
  {
   "cell_type": "code",
   "execution_count": 9,
   "metadata": {},
   "outputs": [],
   "source": [
    "# take the first value from the brakets\n",
    "aam_salary_raw['annual_salary'] = aam_salary_raw['annual_salary'].str.get(0)\n",
    "# change datatype to numeric\n",
    "aam_salary_raw.annual_salary = pd.to_numeric(aam_salary_raw.annual_salary)"
   ]
  },
  {
   "cell_type": "code",
   "execution_count": 10,
   "metadata": {},
   "outputs": [
    {
     "data": {
      "text/html": [
       "<div>\n",
       "<style scoped>\n",
       "    .dataframe tbody tr th:only-of-type {\n",
       "        vertical-align: middle;\n",
       "    }\n",
       "\n",
       "    .dataframe tbody tr th {\n",
       "        vertical-align: top;\n",
       "    }\n",
       "\n",
       "    .dataframe thead th {\n",
       "        text-align: right;\n",
       "    }\n",
       "</style>\n",
       "<table border=\"1\" class=\"dataframe\">\n",
       "  <thead>\n",
       "    <tr style=\"text-align: right;\">\n",
       "      <th></th>\n",
       "      <th>timestamp</th>\n",
       "      <th>age</th>\n",
       "      <th>industry</th>\n",
       "      <th>job_title</th>\n",
       "      <th>annual_salary</th>\n",
       "      <th>currency</th>\n",
       "      <th>location</th>\n",
       "      <th>work_years</th>\n",
       "      <th>notes</th>\n",
       "      <th>other_currency</th>\n",
       "    </tr>\n",
       "  </thead>\n",
       "  <tbody>\n",
       "    <tr>\n",
       "      <th>0</th>\n",
       "      <td>2019-04-24 11:43:21</td>\n",
       "      <td>35-44</td>\n",
       "      <td>Government</td>\n",
       "      <td>Talent Management Asst. Director</td>\n",
       "      <td>75000.0</td>\n",
       "      <td>USD</td>\n",
       "      <td>Nashville, TN</td>\n",
       "      <td>11 - 20 years</td>\n",
       "      <td>NaN</td>\n",
       "      <td>NaN</td>\n",
       "    </tr>\n",
       "    <tr>\n",
       "      <th>1</th>\n",
       "      <td>2019-04-24 11:43:26</td>\n",
       "      <td>25-34</td>\n",
       "      <td>Environmental nonprofit</td>\n",
       "      <td>Operations Director</td>\n",
       "      <td>65000.0</td>\n",
       "      <td>USD</td>\n",
       "      <td>Madison, Wi</td>\n",
       "      <td>8 - 10 years</td>\n",
       "      <td>NaN</td>\n",
       "      <td>NaN</td>\n",
       "    </tr>\n",
       "    <tr>\n",
       "      <th>2</th>\n",
       "      <td>2019-04-24 11:43:27</td>\n",
       "      <td>18-24</td>\n",
       "      <td>Market Research</td>\n",
       "      <td>Market Research Assistant</td>\n",
       "      <td>36330.0</td>\n",
       "      <td>USD</td>\n",
       "      <td>Las Vegas, NV</td>\n",
       "      <td>2 - 4 years</td>\n",
       "      <td>NaN</td>\n",
       "      <td>NaN</td>\n",
       "    </tr>\n",
       "    <tr>\n",
       "      <th>3</th>\n",
       "      <td>2019-04-24 11:43:27</td>\n",
       "      <td>25-34</td>\n",
       "      <td>Biotechnology</td>\n",
       "      <td>Senior Scientist</td>\n",
       "      <td>34600.0</td>\n",
       "      <td>GBP</td>\n",
       "      <td>Cardiff, UK</td>\n",
       "      <td>5-7 years</td>\n",
       "      <td>NaN</td>\n",
       "      <td>NaN</td>\n",
       "    </tr>\n",
       "    <tr>\n",
       "      <th>4</th>\n",
       "      <td>2019-04-24 11:43:29</td>\n",
       "      <td>25-34</td>\n",
       "      <td>Healthcare</td>\n",
       "      <td>Social worker (embedded in primary care)</td>\n",
       "      <td>55000.0</td>\n",
       "      <td>USD</td>\n",
       "      <td>Southeast Michigan, USA</td>\n",
       "      <td>5-7 years</td>\n",
       "      <td>NaN</td>\n",
       "      <td>NaN</td>\n",
       "    </tr>\n",
       "  </tbody>\n",
       "</table>\n",
       "</div>"
      ],
      "text/plain": [
       "            timestamp    age                 industry  \\\n",
       "0 2019-04-24 11:43:21  35-44               Government   \n",
       "1 2019-04-24 11:43:26  25-34  Environmental nonprofit   \n",
       "2 2019-04-24 11:43:27  18-24          Market Research   \n",
       "3 2019-04-24 11:43:27  25-34            Biotechnology   \n",
       "4 2019-04-24 11:43:29  25-34               Healthcare   \n",
       "\n",
       "                                  job_title  annual_salary currency  \\\n",
       "0          Talent Management Asst. Director        75000.0      USD   \n",
       "1                       Operations Director        65000.0      USD   \n",
       "2                 Market Research Assistant        36330.0      USD   \n",
       "3                          Senior Scientist        34600.0      GBP   \n",
       "4  Social worker (embedded in primary care)        55000.0      USD   \n",
       "\n",
       "                  location     work_years notes other_currency  \n",
       "0            Nashville, TN  11 - 20 years   NaN            NaN  \n",
       "1              Madison, Wi   8 - 10 years   NaN            NaN  \n",
       "2            Las Vegas, NV    2 - 4 years   NaN            NaN  \n",
       "3              Cardiff, UK      5-7 years   NaN            NaN  \n",
       "4  Southeast Michigan, USA      5-7 years   NaN            NaN  "
      ]
     },
     "execution_count": 10,
     "metadata": {},
     "output_type": "execute_result"
    }
   ],
   "source": [
    "aam_salary_raw.head()"
   ]
  },
  {
   "cell_type": "markdown",
   "metadata": {
    "scrolled": true
   },
   "source": [
    "#### There are 555 entries with annual salaries below 1,000. I'll drop these entries. Will need to drop these entries in processing. \n",
    "```python \n",
    "aam_drop = aam_salary_raw.loc[aam_salary_raw['annual_salary'] < 1000]\n",
    "```"
   ]
  },
  {
   "cell_type": "code",
   "execution_count": 11,
   "metadata": {},
   "outputs": [],
   "source": [
    "aam_salary_raw.to_csv('../data/02_intermediate/aam_sal_inter.csv', index=False)"
   ]
  }
 ],
 "metadata": {
  "kernelspec": {
   "display_name": "Python 3",
   "language": "python",
   "name": "python3"
  },
  "language_info": {
   "codemirror_mode": {
    "name": "ipython",
    "version": 3
   },
   "file_extension": ".py",
   "mimetype": "text/x-python",
   "name": "python",
   "nbconvert_exporter": "python",
   "pygments_lexer": "ipython3",
   "version": "3.7.1"
  }
 },
 "nbformat": 4,
 "nbformat_minor": 2
}
