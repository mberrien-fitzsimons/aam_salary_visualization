{
 "cells": [
  {
   "cell_type": "markdown",
   "metadata": {},
   "source": [
    "# Data Processing: Raw to Intermediate \n",
    "\n",
    "Data Source: [Ask A Manager salary survey 2019](https://docs.google.com/spreadsheets/d/1rGCKXIKt-7l5gX06NAwO3pjqEHh-oPXtB8ihkp0vGWo/edit#gid=382484678)"
   ]
  },
  {
   "cell_type": "markdown",
   "metadata": {},
   "source": [
    "##### Load Libraries"
   ]
  },
  {
   "cell_type": "code",
   "execution_count": 22,
   "metadata": {},
   "outputs": [],
   "source": [
    "import matplotlib.pyplot as plt\n",
    "import numpy as np \n",
    "import pandas as pd\n",
    "import re"
   ]
  },
  {
   "cell_type": "code",
   "execution_count": 23,
   "metadata": {},
   "outputs": [],
   "source": [
    "# first row does not have useful information so will skip \n",
    "aam_salary_raw = pd.read_csv('../data/01_raw/aam_salary_raw.csv', \n",
    "                            skiprows=1)"
   ]
  },
  {
   "cell_type": "markdown",
   "metadata": {},
   "source": [
    "##### Rename all columns to take out spaces"
   ]
  },
  {
   "cell_type": "code",
   "execution_count": 24,
   "metadata": {},
   "outputs": [
    {
     "data": {
      "text/plain": [
       "Index(['Timestamp', 'How old are you?', 'What industry do you work in?',\n",
       "       'Job title', 'What is your annual salary?',\n",
       "       'Please indicate the currency',\n",
       "       'Where are you located? (City/state/country)',\n",
       "       'How many years of post-college professional work experience do you have?',\n",
       "       'If your job title needs additional context, please clarify here:',\n",
       "       'If \"Other,\" please indicate the currency here: '],\n",
       "      dtype='object')"
      ]
     },
     "execution_count": 24,
     "metadata": {},
     "output_type": "execute_result"
    }
   ],
   "source": [
    "# current column names are long and contain spaces\n",
    "aam_salary_raw.columns"
   ]
  },
  {
   "cell_type": "code",
   "execution_count": 25,
   "metadata": {},
   "outputs": [],
   "source": [
    "# simplify column names\n",
    "aam_salary_raw.head()\n",
    "aam_salary_raw.rename(columns={\"Timestamp\": \"timestamp\", \"How old are you?\": \"age\", \n",
    "                               \"What industry do you work in?\": \"industry\", \"Job title\": \"job_title\", \n",
    "                              \"What is your annual salary?\": \"annual_salary\", \n",
    "                               \"Please indicate the currency\": \"currency\", \n",
    "                              \"Where are you located? (City/state/country)\": \"location\", \n",
    "                              \"How many years of post-college professional work experience do you have?\": \"work_years\", \n",
    "                              \"If your job title needs additional context, please clarify here:\" : \"notes\", \n",
    "                              \"If \\\"Other,\\\" please indicate the currency here: \": \"other_currency\"}, \n",
    "                     inplace=True)\n"
   ]
  },
  {
   "cell_type": "markdown",
   "metadata": {},
   "source": [
    "##### View the datatype of each variable"
   ]
  },
  {
   "cell_type": "code",
   "execution_count": 26,
   "metadata": {},
   "outputs": [
    {
     "name": "stdout",
     "output_type": "stream",
     "text": [
      "<class 'pandas.core.frame.DataFrame'>\n",
      "RangeIndex: 30995 entries, 0 to 30994\n",
      "Data columns (total 10 columns):\n",
      "timestamp         30995 non-null object\n",
      "age               30995 non-null object\n",
      "industry          30171 non-null object\n",
      "job_title         30993 non-null object\n",
      "annual_salary     30992 non-null object\n",
      "currency          30995 non-null object\n",
      "location          29500 non-null object\n",
      "work_years        30995 non-null object\n",
      "notes             7004 non-null object\n",
      "other_currency    236 non-null object\n",
      "dtypes: object(10)\n",
      "memory usage: 2.4+ MB\n"
     ]
    }
   ],
   "source": [
    "aam_salary_raw.info()"
   ]
  },
  {
   "cell_type": "code",
   "execution_count": 27,
   "metadata": {},
   "outputs": [],
   "source": [
    "# change timestamp from object to datetime\n",
    "aam_salary_raw.timestamp = pd.to_datetime(aam_salary_raw.timestamp)\n",
    "# erase all commas, dollar signs & spaces\n",
    "aam_salary_raw.annual_salary = aam_salary_raw.annual_salary.str.replace(',', '')\n",
    "aam_salary_raw.annual_salary = aam_salary_raw.annual_salary.str.replace('$', '')\n",
    "aam_salary_raw.annual_salary = aam_salary_raw.annual_salary.str.replace(' ', '')\n",
    "aam_salary_raw['annual_salary'] = aam_salary_raw['annual_salary'].str.split('.').str[0]"
   ]
  },
  {
   "cell_type": "code",
   "execution_count": 28,
   "metadata": {},
   "outputs": [],
   "source": [
    "# filter only numbers for the annual_salary variable \n",
    "new_sal = []\n",
    "for salary in aam_salary_raw.annual_salary:\n",
    "    new_sal.append(re.findall(r'\\d+', str(salary)))\n",
    "aam_salary_raw.annual_salary = new_sal"
   ]
  },
  {
   "cell_type": "code",
   "execution_count": 29,
   "metadata": {},
   "outputs": [
    {
     "name": "stdout",
     "output_type": "stream",
     "text": [
      "217\n"
     ]
    }
   ],
   "source": [
    "# 853 entries that have multiple numbers\n",
    "count = 0\n",
    "for item in new_sal:\n",
    "    if len(item) > 1:\n",
    "        count += 1\n",
    "print(count)"
   ]
  },
  {
   "cell_type": "code",
   "execution_count": 30,
   "metadata": {},
   "outputs": [],
   "source": [
    "# take the first value from the brakets\n",
    "aam_salary_raw['annual_salary'] = aam_salary_raw['annual_salary'].str.get(0)\n",
    "# change datatype to numeric\n",
    "aam_salary_raw.annual_salary = pd.to_numeric(aam_salary_raw.annual_salary)"
   ]
  },
  {
   "cell_type": "code",
   "execution_count": 31,
   "metadata": {},
   "outputs": [
    {
     "name": "stdout",
     "output_type": "stream",
     "text": [
      "<class 'pandas.core.frame.DataFrame'>\n",
      "RangeIndex: 30995 entries, 0 to 30994\n",
      "Data columns (total 10 columns):\n",
      "timestamp         30995 non-null datetime64[ns]\n",
      "age               30995 non-null object\n",
      "industry          30171 non-null object\n",
      "job_title         30993 non-null object\n",
      "annual_salary     30977 non-null float64\n",
      "currency          30995 non-null object\n",
      "location          29500 non-null object\n",
      "work_years        30995 non-null object\n",
      "notes             7004 non-null object\n",
      "other_currency    236 non-null object\n",
      "dtypes: datetime64[ns](1), float64(1), object(8)\n",
      "memory usage: 2.4+ MB\n"
     ]
    }
   ],
   "source": [
    "aam_salary_raw.info()"
   ]
  },
  {
   "cell_type": "markdown",
   "metadata": {
    "scrolled": true
   },
   "source": [
    "##### There are 555 entries with annual salaries below 1,000. I'll drop these entries. Will need to drop these entries in processing. \n",
    "```python \n",
    "aam_drop = aam_salary_raw.loc[aam_salary_raw['annual_salary'] < 1000]\n",
    "```"
   ]
  },
  {
   "cell_type": "code",
   "execution_count": 32,
   "metadata": {},
   "outputs": [],
   "source": [
    "aam_salary_raw.to_csv('../data/02_intermediate/aam_sal_inter.csv', index=False)"
   ]
  }
 ],
 "metadata": {
  "kernelspec": {
   "display_name": "Python 3",
   "language": "python",
   "name": "python3"
  },
  "language_info": {
   "codemirror_mode": {
    "name": "ipython",
    "version": 3
   },
   "file_extension": ".py",
   "mimetype": "text/x-python",
   "name": "python",
   "nbconvert_exporter": "python",
   "pygments_lexer": "ipython3",
   "version": "3.7.1"
  }
 },
 "nbformat": 4,
 "nbformat_minor": 2
}
