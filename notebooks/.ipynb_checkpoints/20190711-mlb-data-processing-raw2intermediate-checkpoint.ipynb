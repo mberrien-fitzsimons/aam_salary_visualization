{
 "cells": [
  {
   "cell_type": "markdown",
   "metadata": {},
   "source": [
    "# Data Processing: Raw to Internediate \n",
    "\n",
    "Data Source: [Ask A Manager salary survey 2019](https://docs.google.com/spreadsheets/d/1rGCKXIKt-7l5gX06NAwO3pjqEHh-oPXtB8ihkp0vGWo/edit#gid=382484678)"
   ]
  },
  {
   "cell_type": "markdown",
   "metadata": {},
   "source": [
    "#### Load Libraries"
   ]
  },
  {
   "cell_type": "code",
   "execution_count": 73,
   "metadata": {},
   "outputs": [],
   "source": [
    "# import packages\n",
    "import pandas as pd\n",
    "import numpy as np \n",
    "import matplotlib.pyplot as plt\n",
    "import re\n",
    "\n",
    "# import os\n",
    "# import sys\n",
    "# data_dir = os.path.join(os.getcwd(), '..', 'data')\n",
    "# sys.path.append(data_dir)"
   ]
  },
  {
   "cell_type": "code",
   "execution_count": 74,
   "metadata": {},
   "outputs": [],
   "source": [
    "# how do I avoid writing this entire path out?\n",
    "# first row does not have useful information so will skip \n",
    "aam_salary_raw = pd.read_csv('~/coding_projects/python_projects/flatiron_school/projects/aam_salary/data/01_raw/aam_salary_raw.csv', \n",
    "                            skiprows=1)"
   ]
  },
  {
   "cell_type": "code",
   "execution_count": 75,
   "metadata": {},
   "outputs": [
    {
     "data": {
      "text/plain": [
       "Index(['Timestamp', 'How old are you?', 'What industry do you work in?',\n",
       "       'Job title', 'What is your annual salary?',\n",
       "       'Please indicate the currency',\n",
       "       'Where are you located? (City/state/country)',\n",
       "       'How many years of post-college professional work experience do you have?',\n",
       "       'If your job title needs additional context, please clarify here:',\n",
       "       'If \"Other,\" please indicate the currency here: '],\n",
       "      dtype='object')"
      ]
     },
     "execution_count": 75,
     "metadata": {},
     "output_type": "execute_result"
    }
   ],
   "source": [
    "aam_salary_raw.columns"
   ]
  },
  {
   "cell_type": "markdown",
   "metadata": {},
   "source": [
    "#### Rename all columns to take out spaces"
   ]
  },
  {
   "cell_type": "code",
   "execution_count": 76,
   "metadata": {},
   "outputs": [],
   "source": [
    "aam_salary_raw.head()\n",
    "aam_salary_raw.rename(columns={\"Timestamp\": \"timestamp\", \"How old are you?\": \"age\", \n",
    "                               \"What industry do you work in?\": \"industry\", \"Job title\": \"job_title\", \n",
    "                              \"What is your annual salary?\": \"annual_salary\", \n",
    "                               \"Please indicate the currency\": \"currency\", \n",
    "                              \"Where are you located? (City/state/country)\": \"location\", \n",
    "                              \"How many years of post-college professional work experience do you have?\": \"work_years\", \n",
    "                              \"If your job title needs additional context, please clarify here:\" : \"notes\", \n",
    "                              \"If \\\"Other,\\\" please indicate the currency here: \": \"other_currency\"}, \n",
    "                     inplace=True)\n",
    "\n"
   ]
  },
  {
   "cell_type": "markdown",
   "metadata": {},
   "source": [
    "#### View the datatype of each variable"
   ]
  },
  {
   "cell_type": "code",
   "execution_count": 77,
   "metadata": {},
   "outputs": [
    {
     "name": "stdout",
     "output_type": "stream",
     "text": [
      "<class 'pandas.core.frame.DataFrame'>\n",
      "RangeIndex: 30995 entries, 0 to 30994\n",
      "Data columns (total 10 columns):\n",
      "timestamp         30995 non-null object\n",
      "age               30995 non-null object\n",
      "industry          30171 non-null object\n",
      "job_title         30993 non-null object\n",
      "annual_salary     30992 non-null object\n",
      "currency          30995 non-null object\n",
      "location          29500 non-null object\n",
      "work_years        30995 non-null object\n",
      "notes             7004 non-null object\n",
      "other_currency    236 non-null object\n",
      "dtypes: object(10)\n",
      "memory usage: 2.4+ MB\n"
     ]
    }
   ],
   "source": [
    "aam_salary_raw.info()"
   ]
  },
  {
   "cell_type": "code",
   "execution_count": 78,
   "metadata": {},
   "outputs": [
    {
     "data": {
      "text/html": [
       "<div>\n",
       "<style scoped>\n",
       "    .dataframe tbody tr th:only-of-type {\n",
       "        vertical-align: middle;\n",
       "    }\n",
       "\n",
       "    .dataframe tbody tr th {\n",
       "        vertical-align: top;\n",
       "    }\n",
       "\n",
       "    .dataframe thead th {\n",
       "        text-align: right;\n",
       "    }\n",
       "</style>\n",
       "<table border=\"1\" class=\"dataframe\">\n",
       "  <thead>\n",
       "    <tr style=\"text-align: right;\">\n",
       "      <th></th>\n",
       "      <th>timestamp</th>\n",
       "      <th>age</th>\n",
       "      <th>industry</th>\n",
       "      <th>job_title</th>\n",
       "      <th>annual_salary</th>\n",
       "      <th>currency</th>\n",
       "      <th>location</th>\n",
       "      <th>work_years</th>\n",
       "      <th>notes</th>\n",
       "      <th>other_currency</th>\n",
       "    </tr>\n",
       "  </thead>\n",
       "  <tbody>\n",
       "    <tr>\n",
       "      <th>0</th>\n",
       "      <td>4/24/2019 11:43:21</td>\n",
       "      <td>35-44</td>\n",
       "      <td>Government</td>\n",
       "      <td>Talent Management Asst. Director</td>\n",
       "      <td>75000</td>\n",
       "      <td>USD</td>\n",
       "      <td>Nashville, TN</td>\n",
       "      <td>11 - 20 years</td>\n",
       "      <td>NaN</td>\n",
       "      <td>NaN</td>\n",
       "    </tr>\n",
       "    <tr>\n",
       "      <th>1</th>\n",
       "      <td>4/24/2019 11:43:26</td>\n",
       "      <td>25-34</td>\n",
       "      <td>Environmental nonprofit</td>\n",
       "      <td>Operations Director</td>\n",
       "      <td>65,000</td>\n",
       "      <td>USD</td>\n",
       "      <td>Madison, Wi</td>\n",
       "      <td>8 - 10 years</td>\n",
       "      <td>NaN</td>\n",
       "      <td>NaN</td>\n",
       "    </tr>\n",
       "    <tr>\n",
       "      <th>2</th>\n",
       "      <td>4/24/2019 11:43:27</td>\n",
       "      <td>18-24</td>\n",
       "      <td>Market Research</td>\n",
       "      <td>Market Research Assistant</td>\n",
       "      <td>36,330</td>\n",
       "      <td>USD</td>\n",
       "      <td>Las Vegas, NV</td>\n",
       "      <td>2 - 4 years</td>\n",
       "      <td>NaN</td>\n",
       "      <td>NaN</td>\n",
       "    </tr>\n",
       "    <tr>\n",
       "      <th>3</th>\n",
       "      <td>4/24/2019 11:43:27</td>\n",
       "      <td>25-34</td>\n",
       "      <td>Biotechnology</td>\n",
       "      <td>Senior Scientist</td>\n",
       "      <td>34600</td>\n",
       "      <td>GBP</td>\n",
       "      <td>Cardiff, UK</td>\n",
       "      <td>5-7 years</td>\n",
       "      <td>NaN</td>\n",
       "      <td>NaN</td>\n",
       "    </tr>\n",
       "    <tr>\n",
       "      <th>4</th>\n",
       "      <td>4/24/2019 11:43:29</td>\n",
       "      <td>25-34</td>\n",
       "      <td>Healthcare</td>\n",
       "      <td>Social worker (embedded in primary care)</td>\n",
       "      <td>55000</td>\n",
       "      <td>USD</td>\n",
       "      <td>Southeast Michigan, USA</td>\n",
       "      <td>5-7 years</td>\n",
       "      <td>NaN</td>\n",
       "      <td>NaN</td>\n",
       "    </tr>\n",
       "  </tbody>\n",
       "</table>\n",
       "</div>"
      ],
      "text/plain": [
       "            timestamp    age                 industry  \\\n",
       "0  4/24/2019 11:43:21  35-44               Government   \n",
       "1  4/24/2019 11:43:26  25-34  Environmental nonprofit   \n",
       "2  4/24/2019 11:43:27  18-24          Market Research   \n",
       "3  4/24/2019 11:43:27  25-34            Biotechnology   \n",
       "4  4/24/2019 11:43:29  25-34               Healthcare   \n",
       "\n",
       "                                  job_title annual_salary currency  \\\n",
       "0          Talent Management Asst. Director         75000      USD   \n",
       "1                       Operations Director        65,000      USD   \n",
       "2                 Market Research Assistant        36,330      USD   \n",
       "3                          Senior Scientist         34600      GBP   \n",
       "4  Social worker (embedded in primary care)         55000      USD   \n",
       "\n",
       "                  location     work_years notes other_currency  \n",
       "0            Nashville, TN  11 - 20 years   NaN            NaN  \n",
       "1              Madison, Wi   8 - 10 years   NaN            NaN  \n",
       "2            Las Vegas, NV    2 - 4 years   NaN            NaN  \n",
       "3              Cardiff, UK      5-7 years   NaN            NaN  \n",
       "4  Southeast Michigan, USA      5-7 years   NaN            NaN  "
      ]
     },
     "execution_count": 78,
     "metadata": {},
     "output_type": "execute_result"
    }
   ],
   "source": [
    "aam_salary_raw.head()"
   ]
  },
  {
   "cell_type": "code",
   "execution_count": 79,
   "metadata": {},
   "outputs": [],
   "source": [
    "# change timestamp from object to datetime\n",
    "aam_salary_raw.timestamp = pd.to_datetime(aam_salary_raw.timestamp)"
   ]
  },
  {
   "cell_type": "code",
   "execution_count": 80,
   "metadata": {},
   "outputs": [],
   "source": [
    "# erase all commas & dollar signs\n",
    "#aam_salary_raw.annual_salary = aam_salary_raw.annual_salary.str.replace(',', '')\n",
    "#aam_salary_raw.annual_salary = aam_salary_raw.annual_salary.str.replace('$', '')\n",
    "#aam_salary_raw.annual_salary = aam_salary_raw.annual_salary.str.replace(' ', '')\n"
   ]
  },
  {
   "cell_type": "code",
   "execution_count": 92,
   "metadata": {},
   "outputs": [
    {
     "ename": "TypeError",
     "evalue": "expected string or bytes-like object",
     "output_type": "error",
     "traceback": [
      "\u001b[0;31m---------------------------------------------------------------------------\u001b[0m",
      "\u001b[0;31mTypeError\u001b[0m                                 Traceback (most recent call last)",
      "\u001b[0;32m<ipython-input-92-bf544fbf4c60>\u001b[0m in \u001b[0;36m<module>\u001b[0;34m\u001b[0m\n\u001b[1;32m      1\u001b[0m \u001b[0mnew_sal\u001b[0m \u001b[0;34m=\u001b[0m \u001b[0;34m[\u001b[0m\u001b[0;34m]\u001b[0m\u001b[0;34m\u001b[0m\u001b[0;34m\u001b[0m\u001b[0m\n\u001b[1;32m      2\u001b[0m \u001b[0;32mfor\u001b[0m \u001b[0msalary\u001b[0m \u001b[0;32min\u001b[0m \u001b[0maam_salary_raw\u001b[0m\u001b[0;34m.\u001b[0m\u001b[0mannual_salary\u001b[0m\u001b[0;34m:\u001b[0m\u001b[0;34m\u001b[0m\u001b[0;34m\u001b[0m\u001b[0m\n\u001b[0;32m----> 3\u001b[0;31m     \u001b[0msal_int\u001b[0m \u001b[0;34m=\u001b[0m \u001b[0mre\u001b[0m\u001b[0;34m.\u001b[0m\u001b[0msub\u001b[0m\u001b[0;34m(\u001b[0m\u001b[0;34mr\"\\D+\"\u001b[0m\u001b[0;34m,\u001b[0m \u001b[0;34m''\u001b[0m\u001b[0;34m,\u001b[0m \u001b[0msalary\u001b[0m\u001b[0;34m)\u001b[0m\u001b[0;34m\u001b[0m\u001b[0;34m\u001b[0m\u001b[0m\n\u001b[0m\u001b[1;32m      4\u001b[0m     \u001b[0mnew_sal\u001b[0m\u001b[0;34m.\u001b[0m\u001b[0mappend\u001b[0m\u001b[0;34m(\u001b[0m\u001b[0msal_int\u001b[0m\u001b[0;34m)\u001b[0m\u001b[0;34m\u001b[0m\u001b[0;34m\u001b[0m\u001b[0m\n\u001b[1;32m      5\u001b[0m \u001b[0;34m\u001b[0m\u001b[0m\n",
      "\u001b[0;32m/anaconda3/lib/python3.7/re.py\u001b[0m in \u001b[0;36msub\u001b[0;34m(pattern, repl, string, count, flags)\u001b[0m\n\u001b[1;32m    190\u001b[0m     \u001b[0ma\u001b[0m \u001b[0mcallable\u001b[0m\u001b[0;34m,\u001b[0m \u001b[0mit\u001b[0m\u001b[0;31m'\u001b[0m\u001b[0ms\u001b[0m \u001b[0mpassed\u001b[0m \u001b[0mthe\u001b[0m \u001b[0mMatch\u001b[0m \u001b[0mobject\u001b[0m \u001b[0;32mand\u001b[0m \u001b[0mmust\u001b[0m \u001b[0;32mreturn\u001b[0m\u001b[0;34m\u001b[0m\u001b[0;34m\u001b[0m\u001b[0m\n\u001b[1;32m    191\u001b[0m     a replacement string to be used.\"\"\"\n\u001b[0;32m--> 192\u001b[0;31m     \u001b[0;32mreturn\u001b[0m \u001b[0m_compile\u001b[0m\u001b[0;34m(\u001b[0m\u001b[0mpattern\u001b[0m\u001b[0;34m,\u001b[0m \u001b[0mflags\u001b[0m\u001b[0;34m)\u001b[0m\u001b[0;34m.\u001b[0m\u001b[0msub\u001b[0m\u001b[0;34m(\u001b[0m\u001b[0mrepl\u001b[0m\u001b[0;34m,\u001b[0m \u001b[0mstring\u001b[0m\u001b[0;34m,\u001b[0m \u001b[0mcount\u001b[0m\u001b[0;34m)\u001b[0m\u001b[0;34m\u001b[0m\u001b[0;34m\u001b[0m\u001b[0m\n\u001b[0m\u001b[1;32m    193\u001b[0m \u001b[0;34m\u001b[0m\u001b[0m\n\u001b[1;32m    194\u001b[0m \u001b[0;32mdef\u001b[0m \u001b[0msubn\u001b[0m\u001b[0;34m(\u001b[0m\u001b[0mpattern\u001b[0m\u001b[0;34m,\u001b[0m \u001b[0mrepl\u001b[0m\u001b[0;34m,\u001b[0m \u001b[0mstring\u001b[0m\u001b[0;34m,\u001b[0m \u001b[0mcount\u001b[0m\u001b[0;34m=\u001b[0m\u001b[0;36m0\u001b[0m\u001b[0;34m,\u001b[0m \u001b[0mflags\u001b[0m\u001b[0;34m=\u001b[0m\u001b[0;36m0\u001b[0m\u001b[0;34m)\u001b[0m\u001b[0;34m:\u001b[0m\u001b[0;34m\u001b[0m\u001b[0;34m\u001b[0m\u001b[0m\n",
      "\u001b[0;31mTypeError\u001b[0m: expected string or bytes-like object"
     ]
    }
   ],
   "source": [
    "new_sal = []\n",
    "for salary in aam_salary_raw.annual_salary:\n",
    "    sal_int = re.sub(r\"\\D+\", '', salary)\n",
    "    new_sal.append(sal_int)\n",
    "\n",
    "aam_salary_raw.annual_salary = new_sal"
   ]
  },
  {
   "cell_type": "code",
   "execution_count": 93,
   "metadata": {},
   "outputs": [
    {
     "data": {
      "text/plain": [
       "17054"
      ]
     },
     "execution_count": 93,
     "metadata": {},
     "output_type": "execute_result"
    }
   ],
   "source": [
    "len(new_sal)"
   ]
  },
  {
   "cell_type": "code",
   "execution_count": null,
   "metadata": {},
   "outputs": [],
   "source": []
  }
 ],
 "metadata": {
  "kernelspec": {
   "display_name": "Python 3",
   "language": "python",
   "name": "python3"
  },
  "language_info": {
   "codemirror_mode": {
    "name": "ipython",
    "version": 3
   },
   "file_extension": ".py",
   "mimetype": "text/x-python",
   "name": "python",
   "nbconvert_exporter": "python",
   "pygments_lexer": "ipython3",
   "version": "3.7.1"
  }
 },
 "nbformat": 4,
 "nbformat_minor": 2
}
